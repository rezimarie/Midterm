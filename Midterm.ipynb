{
 "cells": [
  {
   "cell_type": "code",
   "execution_count": 49,
   "id": "54246498",
   "metadata": {},
   "outputs": [],
   "source": [
    "import pandas as pd\n",
    "from matplotlib import pyplot as plt\n",
    "import numpy as np\n",
    "import sys\n",
    "from matplotlib import pyplot as plt\n",
    "import math"
   ]
  },
  {
   "cell_type": "markdown",
   "id": "4eac6ec4",
   "metadata": {},
   "source": [
    "# Midterm - Python"
   ]
  },
  {
   "cell_type": "markdown",
   "id": "c5e8ddb5",
   "metadata": {},
   "source": [
    "## Part 1"
   ]
  },
  {
   "cell_type": "code",
   "execution_count": 10,
   "id": "b6494094",
   "metadata": {},
   "outputs": [],
   "source": [
    "#Make sure that Dates are correctly represented as Datetime variables\n",
    "#In the following analysis, use the Adjusted Close time series, unless specified otherwise"
   ]
  },
  {
   "cell_type": "code",
   "execution_count": 11,
   "id": "5e33ef42",
   "metadata": {},
   "outputs": [],
   "source": [
    "#first I need to create my dataset- load the data and put them together"
   ]
  },
  {
   "cell_type": "code",
   "execution_count": 17,
   "id": "613f7e99",
   "metadata": {},
   "outputs": [],
   "source": [
    "# I will Load the individual datasets:\n",
    "df_1 = pd.read_csv(\"ACN.csv\")\n",
    "df_2 = pd.read_csv(\"HD.csv\")\n",
    "df_3 = pd.read_csv(\"HIG.csv\")\n",
    "df_4 = pd.read_csv(\"UNH.csv\")\n"
   ]
  },
  {
   "cell_type": "code",
   "execution_count": 18,
   "id": "1fbf9882",
   "metadata": {},
   "outputs": [
    {
     "name": "stdout",
     "output_type": "stream",
     "text": [
      "            Date        High         Low        Open       Close     Volume  \\\n",
      "0     2017-11-13  144.279999  143.160004  143.610001  143.919998  1456200.0   \n",
      "1     2017-11-14  145.500000  142.770004  143.410004  144.960007  1811900.0   \n",
      "2     2017-11-15  145.000000  143.679993  144.410004  144.259995  1792800.0   \n",
      "3     2017-11-16  147.279999  144.600006  144.960007  147.039993  2040100.0   \n",
      "4     2017-11-17  146.789993  144.750000  146.389999  145.449997  2557100.0   \n",
      "...          ...         ...         ...         ...         ...        ...   \n",
      "1254  2022-11-07  269.109985  261.369995  262.750000  269.070007  2170000.0   \n",
      "1255  2022-11-08  274.899994  266.119995  271.089996  269.029999  2444000.0   \n",
      "1256  2022-11-09  269.190002  265.369995  266.320007  266.440002  1831600.0   \n",
      "1257  2022-11-10  287.309998  277.369995  278.179993  287.019989  3121400.0   \n",
      "1258  2022-11-11  291.739990  280.630005  287.209991  290.089996  2620500.0   \n",
      "\n",
      "       Adj Close  \n",
      "0     133.897812  \n",
      "1     134.865402  \n",
      "2     134.214172  \n",
      "3     136.800568  \n",
      "4     135.321274  \n",
      "...          ...  \n",
      "1254  269.070007  \n",
      "1255  269.029999  \n",
      "1256  266.440002  \n",
      "1257  287.019989  \n",
      "1258  290.089996  \n",
      "\n",
      "[1259 rows x 7 columns]\n"
     ]
    }
   ],
   "source": [
    "print(df_1)"
   ]
  },
  {
   "cell_type": "code",
   "execution_count": 19,
   "id": "e4a8c823",
   "metadata": {},
   "outputs": [],
   "source": [
    "# Also I should add a name column to each stock\n",
    "df_1[\"name\"] = \"ACN\"\n",
    "df_2[\"name\"] = \"HD\"\n",
    "df_3[\"name\"] = \"HIG\"\n",
    "df_4[\"name\"] = \"UNG\""
   ]
  },
  {
   "cell_type": "code",
   "execution_count": 20,
   "id": "a0c5adfb",
   "metadata": {},
   "outputs": [
    {
     "data": {
      "text/html": [
       "<div>\n",
       "<style scoped>\n",
       "    .dataframe tbody tr th:only-of-type {\n",
       "        vertical-align: middle;\n",
       "    }\n",
       "\n",
       "    .dataframe tbody tr th {\n",
       "        vertical-align: top;\n",
       "    }\n",
       "\n",
       "    .dataframe thead th {\n",
       "        text-align: right;\n",
       "    }\n",
       "</style>\n",
       "<table border=\"1\" class=\"dataframe\">\n",
       "  <thead>\n",
       "    <tr style=\"text-align: right;\">\n",
       "      <th></th>\n",
       "      <th>Date</th>\n",
       "      <th>High</th>\n",
       "      <th>Low</th>\n",
       "      <th>Open</th>\n",
       "      <th>Close</th>\n",
       "      <th>Volume</th>\n",
       "      <th>Adj Close</th>\n",
       "      <th>name</th>\n",
       "    </tr>\n",
       "  </thead>\n",
       "  <tbody>\n",
       "    <tr>\n",
       "      <th>0</th>\n",
       "      <td>2017-11-13</td>\n",
       "      <td>144.279999</td>\n",
       "      <td>143.160004</td>\n",
       "      <td>143.610001</td>\n",
       "      <td>143.919998</td>\n",
       "      <td>1456200.0</td>\n",
       "      <td>133.897812</td>\n",
       "      <td>ACN</td>\n",
       "    </tr>\n",
       "    <tr>\n",
       "      <th>1</th>\n",
       "      <td>2017-11-14</td>\n",
       "      <td>145.500000</td>\n",
       "      <td>142.770004</td>\n",
       "      <td>143.410004</td>\n",
       "      <td>144.960007</td>\n",
       "      <td>1811900.0</td>\n",
       "      <td>134.865402</td>\n",
       "      <td>ACN</td>\n",
       "    </tr>\n",
       "    <tr>\n",
       "      <th>2</th>\n",
       "      <td>2017-11-15</td>\n",
       "      <td>145.000000</td>\n",
       "      <td>143.679993</td>\n",
       "      <td>144.410004</td>\n",
       "      <td>144.259995</td>\n",
       "      <td>1792800.0</td>\n",
       "      <td>134.214172</td>\n",
       "      <td>ACN</td>\n",
       "    </tr>\n",
       "    <tr>\n",
       "      <th>3</th>\n",
       "      <td>2017-11-16</td>\n",
       "      <td>147.279999</td>\n",
       "      <td>144.600006</td>\n",
       "      <td>144.960007</td>\n",
       "      <td>147.039993</td>\n",
       "      <td>2040100.0</td>\n",
       "      <td>136.800568</td>\n",
       "      <td>ACN</td>\n",
       "    </tr>\n",
       "    <tr>\n",
       "      <th>4</th>\n",
       "      <td>2017-11-17</td>\n",
       "      <td>146.789993</td>\n",
       "      <td>144.750000</td>\n",
       "      <td>146.389999</td>\n",
       "      <td>145.449997</td>\n",
       "      <td>2557100.0</td>\n",
       "      <td>135.321274</td>\n",
       "      <td>ACN</td>\n",
       "    </tr>\n",
       "  </tbody>\n",
       "</table>\n",
       "</div>"
      ],
      "text/plain": [
       "         Date        High         Low        Open       Close     Volume  \\\n",
       "0  2017-11-13  144.279999  143.160004  143.610001  143.919998  1456200.0   \n",
       "1  2017-11-14  145.500000  142.770004  143.410004  144.960007  1811900.0   \n",
       "2  2017-11-15  145.000000  143.679993  144.410004  144.259995  1792800.0   \n",
       "3  2017-11-16  147.279999  144.600006  144.960007  147.039993  2040100.0   \n",
       "4  2017-11-17  146.789993  144.750000  146.389999  145.449997  2557100.0   \n",
       "\n",
       "    Adj Close name  \n",
       "0  133.897812  ACN  \n",
       "1  134.865402  ACN  \n",
       "2  134.214172  ACN  \n",
       "3  136.800568  ACN  \n",
       "4  135.321274  ACN  "
      ]
     },
     "execution_count": 20,
     "metadata": {},
     "output_type": "execute_result"
    }
   ],
   "source": [
    "#Lets merge the datasets into one:\n",
    "stock1_df = pd.concat([df_1, df_2, df_3, df_4], axis = 0, ignore_index = True)\n",
    "\n",
    "# check the dataset\n",
    "stock1_df.head()"
   ]
  },
  {
   "cell_type": "code",
   "execution_count": 22,
   "id": "4f071b90",
   "metadata": {},
   "outputs": [
    {
     "name": "stdout",
     "output_type": "stream",
     "text": [
      "<class 'pandas.core.frame.DataFrame'>\n",
      "RangeIndex: 5036 entries, 0 to 5035\n",
      "Data columns (total 8 columns):\n",
      " #   Column     Non-Null Count  Dtype  \n",
      "---  ------     --------------  -----  \n",
      " 0   Date       5036 non-null   object \n",
      " 1   High       5036 non-null   float64\n",
      " 2   Low        5036 non-null   float64\n",
      " 3   Open       5036 non-null   float64\n",
      " 4   Close      5036 non-null   float64\n",
      " 5   Volume     5036 non-null   float64\n",
      " 6   Adj Close  5036 non-null   float64\n",
      " 7   name       5036 non-null   object \n",
      "dtypes: float64(6), object(2)\n",
      "memory usage: 314.9+ KB\n"
     ]
    }
   ],
   "source": [
    "#look at the structure\n",
    "stock1_df.info()"
   ]
  },
  {
   "cell_type": "code",
   "execution_count": 25,
   "id": "adcdc2f1",
   "metadata": {},
   "outputs": [
    {
     "data": {
      "text/plain": [
       "str"
      ]
     },
     "execution_count": 25,
     "metadata": {},
     "output_type": "execute_result"
    }
   ],
   "source": [
    "# type of date?\n",
    "type(stock1_df[\"Date\"][0])"
   ]
  },
  {
   "cell_type": "code",
   "execution_count": 27,
   "id": "72efc635",
   "metadata": {},
   "outputs": [],
   "source": [
    "#lets do sth about the date\n",
    "stock1_df.set_index(\"Date\", inplace = True)\n"
   ]
  },
  {
   "cell_type": "code",
   "execution_count": 29,
   "id": "fdbcbcae",
   "metadata": {},
   "outputs": [],
   "source": [
    "stock1_df.sort_index(ascending = True, inplace = True)"
   ]
  },
  {
   "cell_type": "markdown",
   "id": "b87c5dc8",
   "metadata": {},
   "source": [
    "Is there a company that has no difference between the Close and Adj Close columns? What does it mean from the financial point of view for the stock (you can get bonus\n",
    "partial points)?"
   ]
  },
  {
   "cell_type": "code",
   "execution_count": 33,
   "id": "2dc3a835",
   "metadata": {},
   "outputs": [
    {
     "data": {
      "text/html": [
       "<div>\n",
       "<style scoped>\n",
       "    .dataframe tbody tr th:only-of-type {\n",
       "        vertical-align: middle;\n",
       "    }\n",
       "\n",
       "    .dataframe tbody tr th {\n",
       "        vertical-align: top;\n",
       "    }\n",
       "\n",
       "    .dataframe thead th {\n",
       "        text-align: right;\n",
       "    }\n",
       "</style>\n",
       "<table border=\"1\" class=\"dataframe\">\n",
       "  <thead>\n",
       "    <tr style=\"text-align: right;\">\n",
       "      <th></th>\n",
       "      <th>High</th>\n",
       "      <th>Low</th>\n",
       "      <th>Open</th>\n",
       "      <th>Close</th>\n",
       "      <th>Volume</th>\n",
       "      <th>Adj Close</th>\n",
       "      <th>name</th>\n",
       "    </tr>\n",
       "    <tr>\n",
       "      <th>Date</th>\n",
       "      <th></th>\n",
       "      <th></th>\n",
       "      <th></th>\n",
       "      <th></th>\n",
       "      <th></th>\n",
       "      <th></th>\n",
       "      <th></th>\n",
       "    </tr>\n",
       "  </thead>\n",
       "  <tbody>\n",
       "    <tr>\n",
       "      <th>2017-11-13</th>\n",
       "      <td>144.279999</td>\n",
       "      <td>143.160004</td>\n",
       "      <td>143.610001</td>\n",
       "      <td>143.919998</td>\n",
       "      <td>1456200.0</td>\n",
       "      <td>133.897812</td>\n",
       "      <td>ACN</td>\n",
       "    </tr>\n",
       "    <tr>\n",
       "      <th>2017-11-13</th>\n",
       "      <td>55.810001</td>\n",
       "      <td>55.259998</td>\n",
       "      <td>55.430000</td>\n",
       "      <td>55.689999</td>\n",
       "      <td>1721100.0</td>\n",
       "      <td>50.072018</td>\n",
       "      <td>HIG</td>\n",
       "    </tr>\n",
       "    <tr>\n",
       "      <th>2017-11-13</th>\n",
       "      <td>166.639999</td>\n",
       "      <td>164.250000</td>\n",
       "      <td>164.639999</td>\n",
       "      <td>165.350006</td>\n",
       "      <td>7189300.0</td>\n",
       "      <td>149.874496</td>\n",
       "      <td>HD</td>\n",
       "    </tr>\n",
       "    <tr>\n",
       "      <th>2017-11-13</th>\n",
       "      <td>213.539993</td>\n",
       "      <td>209.940002</td>\n",
       "      <td>210.309998</td>\n",
       "      <td>212.660004</td>\n",
       "      <td>2662200.0</td>\n",
       "      <td>199.511688</td>\n",
       "      <td>UNG</td>\n",
       "    </tr>\n",
       "    <tr>\n",
       "      <th>2017-11-14</th>\n",
       "      <td>145.500000</td>\n",
       "      <td>142.770004</td>\n",
       "      <td>143.410004</td>\n",
       "      <td>144.960007</td>\n",
       "      <td>1811900.0</td>\n",
       "      <td>134.865402</td>\n",
       "      <td>ACN</td>\n",
       "    </tr>\n",
       "    <tr>\n",
       "      <th>2017-11-14</th>\n",
       "      <td>56.259998</td>\n",
       "      <td>55.430000</td>\n",
       "      <td>55.430000</td>\n",
       "      <td>56.220001</td>\n",
       "      <td>1820200.0</td>\n",
       "      <td>50.548561</td>\n",
       "      <td>HIG</td>\n",
       "    </tr>\n",
       "    <tr>\n",
       "      <th>2017-11-14</th>\n",
       "      <td>212.699997</td>\n",
       "      <td>210.919998</td>\n",
       "      <td>212.210007</td>\n",
       "      <td>211.710007</td>\n",
       "      <td>1993900.0</td>\n",
       "      <td>198.620453</td>\n",
       "      <td>UNG</td>\n",
       "    </tr>\n",
       "    <tr>\n",
       "      <th>2017-11-14</th>\n",
       "      <td>168.139999</td>\n",
       "      <td>163.149994</td>\n",
       "      <td>163.619995</td>\n",
       "      <td>168.059998</td>\n",
       "      <td>10284000.0</td>\n",
       "      <td>152.330826</td>\n",
       "      <td>HD</td>\n",
       "    </tr>\n",
       "    <tr>\n",
       "      <th>2017-11-15</th>\n",
       "      <td>145.000000</td>\n",
       "      <td>143.679993</td>\n",
       "      <td>144.410004</td>\n",
       "      <td>144.259995</td>\n",
       "      <td>1792800.0</td>\n",
       "      <td>134.214172</td>\n",
       "      <td>ACN</td>\n",
       "    </tr>\n",
       "    <tr>\n",
       "      <th>2017-11-15</th>\n",
       "      <td>167.440002</td>\n",
       "      <td>165.350006</td>\n",
       "      <td>167.440002</td>\n",
       "      <td>165.470001</td>\n",
       "      <td>5534500.0</td>\n",
       "      <td>149.983246</td>\n",
       "      <td>HD</td>\n",
       "    </tr>\n",
       "  </tbody>\n",
       "</table>\n",
       "</div>"
      ],
      "text/plain": [
       "                  High         Low        Open       Close      Volume  \\\n",
       "Date                                                                     \n",
       "2017-11-13  144.279999  143.160004  143.610001  143.919998   1456200.0   \n",
       "2017-11-13   55.810001   55.259998   55.430000   55.689999   1721100.0   \n",
       "2017-11-13  166.639999  164.250000  164.639999  165.350006   7189300.0   \n",
       "2017-11-13  213.539993  209.940002  210.309998  212.660004   2662200.0   \n",
       "2017-11-14  145.500000  142.770004  143.410004  144.960007   1811900.0   \n",
       "2017-11-14   56.259998   55.430000   55.430000   56.220001   1820200.0   \n",
       "2017-11-14  212.699997  210.919998  212.210007  211.710007   1993900.0   \n",
       "2017-11-14  168.139999  163.149994  163.619995  168.059998  10284000.0   \n",
       "2017-11-15  145.000000  143.679993  144.410004  144.259995   1792800.0   \n",
       "2017-11-15  167.440002  165.350006  167.440002  165.470001   5534500.0   \n",
       "\n",
       "             Adj Close name  \n",
       "Date                         \n",
       "2017-11-13  133.897812  ACN  \n",
       "2017-11-13   50.072018  HIG  \n",
       "2017-11-13  149.874496   HD  \n",
       "2017-11-13  199.511688  UNG  \n",
       "2017-11-14  134.865402  ACN  \n",
       "2017-11-14   50.548561  HIG  \n",
       "2017-11-14  198.620453  UNG  \n",
       "2017-11-14  152.330826   HD  \n",
       "2017-11-15  134.214172  ACN  \n",
       "2017-11-15  149.983246   HD  "
      ]
     },
     "execution_count": 33,
     "metadata": {},
     "output_type": "execute_result"
    }
   ],
   "source": [
    "#Q1 - Look at the dataset\n",
    "stock1_df.head(10)"
   ]
  },
  {
   "cell_type": "markdown",
   "id": "99593dbc",
   "metadata": {},
   "source": [
    "From this, I can see which company has no diff betwenn close and adj close columns - there is no such a company, all of them have adjusted close different feom close values"
   ]
  },
  {
   "cell_type": "code",
   "execution_count": 34,
   "id": "1fb58e83",
   "metadata": {},
   "outputs": [
    {
     "data": {
      "text/plain": [
       "name\n",
       "ACN    409.828918\n",
       "HD     416.179993\n",
       "HIG     75.349998\n",
       "UNG    555.150024\n",
       "Name: Adj Close, dtype: float64"
      ]
     },
     "execution_count": 34,
     "metadata": {},
     "output_type": "execute_result"
    }
   ],
   "source": [
    "#Q2 - What is the highest and lowest price (Adj Close) each company recorded?\n",
    "stock1_df.groupby(\"name\")[\"Adj Close\"].max()\n"
   ]
  },
  {
   "cell_type": "markdown",
   "id": "55f2ead7",
   "metadata": {},
   "source": [
    "Here we can see please the max value for each company"
   ]
  },
  {
   "cell_type": "code",
   "execution_count": 36,
   "id": "5771d4e1",
   "metadata": {},
   "outputs": [
    {
     "data": {
      "text/plain": [
       "name\n",
       "ACN    126.605682\n",
       "HD     146.575485\n",
       "HIG     24.926821\n",
       "UNG    189.865845\n",
       "Name: Adj Close, dtype: float64"
      ]
     },
     "execution_count": 36,
     "metadata": {},
     "output_type": "execute_result"
    }
   ],
   "source": [
    "stock1_df.groupby(\"name\")[\"Adj Close\"].min()"
   ]
  },
  {
   "cell_type": "markdown",
   "id": "1aca315e",
   "metadata": {},
   "source": [
    "Here we can see please the min value for each company"
   ]
  },
  {
   "cell_type": "code",
   "execution_count": null,
   "id": "e1200cd3",
   "metadata": {},
   "outputs": [],
   "source": [
    "# Q3 Calculate logarithmic returns from Adj Close. \n",
    "#For each company report on its, min, max, mean, median of the return distribution."
   ]
  },
  {
   "cell_type": "code",
   "execution_count": 50,
   "id": "37d41ffa",
   "metadata": {},
   "outputs": [],
   "source": [
    "# I assume that returns are refering to deily returns -  adj.close-open - I need to create new column for that\n",
    "\n",
    "stock1_df[\"return_absolute\"] = ((stock1_df[\"Open\"] - stock1_df[\"Adj Close\"]))"
   ]
  },
  {
   "cell_type": "code",
   "execution_count": 41,
   "id": "ae10d6a6",
   "metadata": {},
   "outputs": [
    {
     "data": {
      "text/html": [
       "<div>\n",
       "<style scoped>\n",
       "    .dataframe tbody tr th:only-of-type {\n",
       "        vertical-align: middle;\n",
       "    }\n",
       "\n",
       "    .dataframe tbody tr th {\n",
       "        vertical-align: top;\n",
       "    }\n",
       "\n",
       "    .dataframe thead th {\n",
       "        text-align: right;\n",
       "    }\n",
       "</style>\n",
       "<table border=\"1\" class=\"dataframe\">\n",
       "  <thead>\n",
       "    <tr style=\"text-align: right;\">\n",
       "      <th></th>\n",
       "      <th>High</th>\n",
       "      <th>Low</th>\n",
       "      <th>Open</th>\n",
       "      <th>Close</th>\n",
       "      <th>Volume</th>\n",
       "      <th>Adj Close</th>\n",
       "      <th>name</th>\n",
       "      <th>return</th>\n",
       "    </tr>\n",
       "    <tr>\n",
       "      <th>Date</th>\n",
       "      <th></th>\n",
       "      <th></th>\n",
       "      <th></th>\n",
       "      <th></th>\n",
       "      <th></th>\n",
       "      <th></th>\n",
       "      <th></th>\n",
       "      <th></th>\n",
       "    </tr>\n",
       "  </thead>\n",
       "  <tbody>\n",
       "    <tr>\n",
       "      <th>2017-11-13</th>\n",
       "      <td>144.279999</td>\n",
       "      <td>143.160004</td>\n",
       "      <td>143.610001</td>\n",
       "      <td>143.919998</td>\n",
       "      <td>1456200.0</td>\n",
       "      <td>133.897812</td>\n",
       "      <td>ACN</td>\n",
       "      <td>9.712189</td>\n",
       "    </tr>\n",
       "    <tr>\n",
       "      <th>2017-11-13</th>\n",
       "      <td>55.810001</td>\n",
       "      <td>55.259998</td>\n",
       "      <td>55.430000</td>\n",
       "      <td>55.689999</td>\n",
       "      <td>1721100.0</td>\n",
       "      <td>50.072018</td>\n",
       "      <td>HIG</td>\n",
       "      <td>5.357983</td>\n",
       "    </tr>\n",
       "    <tr>\n",
       "      <th>2017-11-13</th>\n",
       "      <td>166.639999</td>\n",
       "      <td>164.250000</td>\n",
       "      <td>164.639999</td>\n",
       "      <td>165.350006</td>\n",
       "      <td>7189300.0</td>\n",
       "      <td>149.874496</td>\n",
       "      <td>HD</td>\n",
       "      <td>14.765503</td>\n",
       "    </tr>\n",
       "    <tr>\n",
       "      <th>2017-11-13</th>\n",
       "      <td>213.539993</td>\n",
       "      <td>209.940002</td>\n",
       "      <td>210.309998</td>\n",
       "      <td>212.660004</td>\n",
       "      <td>2662200.0</td>\n",
       "      <td>199.511688</td>\n",
       "      <td>UNG</td>\n",
       "      <td>10.798309</td>\n",
       "    </tr>\n",
       "    <tr>\n",
       "      <th>2017-11-14</th>\n",
       "      <td>145.500000</td>\n",
       "      <td>142.770004</td>\n",
       "      <td>143.410004</td>\n",
       "      <td>144.960007</td>\n",
       "      <td>1811900.0</td>\n",
       "      <td>134.865402</td>\n",
       "      <td>ACN</td>\n",
       "      <td>8.544601</td>\n",
       "    </tr>\n",
       "  </tbody>\n",
       "</table>\n",
       "</div>"
      ],
      "text/plain": [
       "                  High         Low        Open       Close     Volume  \\\n",
       "Date                                                                    \n",
       "2017-11-13  144.279999  143.160004  143.610001  143.919998  1456200.0   \n",
       "2017-11-13   55.810001   55.259998   55.430000   55.689999  1721100.0   \n",
       "2017-11-13  166.639999  164.250000  164.639999  165.350006  7189300.0   \n",
       "2017-11-13  213.539993  209.940002  210.309998  212.660004  2662200.0   \n",
       "2017-11-14  145.500000  142.770004  143.410004  144.960007  1811900.0   \n",
       "\n",
       "             Adj Close name     return  \n",
       "Date                                    \n",
       "2017-11-13  133.897812  ACN   9.712189  \n",
       "2017-11-13   50.072018  HIG   5.357983  \n",
       "2017-11-13  149.874496   HD  14.765503  \n",
       "2017-11-13  199.511688  UNG  10.798309  \n",
       "2017-11-14  134.865402  ACN   8.544601  "
      ]
     },
     "execution_count": 41,
     "metadata": {},
     "output_type": "execute_result"
    }
   ],
   "source": [
    "stock1_df.head()"
   ]
  },
  {
   "cell_type": "code",
   "execution_count": 51,
   "id": "29ea6bee",
   "metadata": {},
   "outputs": [
    {
     "data": {
      "text/html": [
       "<div>\n",
       "<style scoped>\n",
       "    .dataframe tbody tr th:only-of-type {\n",
       "        vertical-align: middle;\n",
       "    }\n",
       "\n",
       "    .dataframe tbody tr th {\n",
       "        vertical-align: top;\n",
       "    }\n",
       "\n",
       "    .dataframe thead th {\n",
       "        text-align: right;\n",
       "    }\n",
       "</style>\n",
       "<table border=\"1\" class=\"dataframe\">\n",
       "  <thead>\n",
       "    <tr style=\"text-align: right;\">\n",
       "      <th></th>\n",
       "      <th>High</th>\n",
       "      <th>Low</th>\n",
       "      <th>Open</th>\n",
       "      <th>Close</th>\n",
       "      <th>Volume</th>\n",
       "      <th>Adj Close</th>\n",
       "      <th>name</th>\n",
       "      <th>return</th>\n",
       "      <th>return_absolute</th>\n",
       "    </tr>\n",
       "    <tr>\n",
       "      <th>Date</th>\n",
       "      <th></th>\n",
       "      <th></th>\n",
       "      <th></th>\n",
       "      <th></th>\n",
       "      <th></th>\n",
       "      <th></th>\n",
       "      <th></th>\n",
       "      <th></th>\n",
       "      <th></th>\n",
       "    </tr>\n",
       "  </thead>\n",
       "  <tbody>\n",
       "    <tr>\n",
       "      <th>2017-11-13</th>\n",
       "      <td>144.279999</td>\n",
       "      <td>143.160004</td>\n",
       "      <td>143.610001</td>\n",
       "      <td>143.919998</td>\n",
       "      <td>1456200.0</td>\n",
       "      <td>133.897812</td>\n",
       "      <td>ACN</td>\n",
       "      <td>0.072534</td>\n",
       "      <td>9.712189</td>\n",
       "    </tr>\n",
       "    <tr>\n",
       "      <th>2017-11-13</th>\n",
       "      <td>55.810001</td>\n",
       "      <td>55.259998</td>\n",
       "      <td>55.430000</td>\n",
       "      <td>55.689999</td>\n",
       "      <td>1721100.0</td>\n",
       "      <td>50.072018</td>\n",
       "      <td>HIG</td>\n",
       "      <td>0.107006</td>\n",
       "      <td>5.357983</td>\n",
       "    </tr>\n",
       "    <tr>\n",
       "      <th>2017-11-13</th>\n",
       "      <td>166.639999</td>\n",
       "      <td>164.250000</td>\n",
       "      <td>164.639999</td>\n",
       "      <td>165.350006</td>\n",
       "      <td>7189300.0</td>\n",
       "      <td>149.874496</td>\n",
       "      <td>HD</td>\n",
       "      <td>0.098519</td>\n",
       "      <td>14.765503</td>\n",
       "    </tr>\n",
       "    <tr>\n",
       "      <th>2017-11-13</th>\n",
       "      <td>213.539993</td>\n",
       "      <td>209.940002</td>\n",
       "      <td>210.309998</td>\n",
       "      <td>212.660004</td>\n",
       "      <td>2662200.0</td>\n",
       "      <td>199.511688</td>\n",
       "      <td>UNG</td>\n",
       "      <td>0.054124</td>\n",
       "      <td>10.798309</td>\n",
       "    </tr>\n",
       "    <tr>\n",
       "      <th>2017-11-14</th>\n",
       "      <td>145.500000</td>\n",
       "      <td>142.770004</td>\n",
       "      <td>143.410004</td>\n",
       "      <td>144.960007</td>\n",
       "      <td>1811900.0</td>\n",
       "      <td>134.865402</td>\n",
       "      <td>ACN</td>\n",
       "      <td>0.063357</td>\n",
       "      <td>8.544601</td>\n",
       "    </tr>\n",
       "  </tbody>\n",
       "</table>\n",
       "</div>"
      ],
      "text/plain": [
       "                  High         Low        Open       Close     Volume  \\\n",
       "Date                                                                    \n",
       "2017-11-13  144.279999  143.160004  143.610001  143.919998  1456200.0   \n",
       "2017-11-13   55.810001   55.259998   55.430000   55.689999  1721100.0   \n",
       "2017-11-13  166.639999  164.250000  164.639999  165.350006  7189300.0   \n",
       "2017-11-13  213.539993  209.940002  210.309998  212.660004  2662200.0   \n",
       "2017-11-14  145.500000  142.770004  143.410004  144.960007  1811900.0   \n",
       "\n",
       "             Adj Close name    return  return_absolute  \n",
       "Date                                                    \n",
       "2017-11-13  133.897812  ACN  0.072534         9.712189  \n",
       "2017-11-13   50.072018  HIG  0.107006         5.357983  \n",
       "2017-11-13  149.874496   HD  0.098519        14.765503  \n",
       "2017-11-13  199.511688  UNG  0.054124        10.798309  \n",
       "2017-11-14  134.865402  ACN  0.063357         8.544601  "
      ]
     },
     "execution_count": 51,
     "metadata": {},
     "output_type": "execute_result"
    }
   ],
   "source": [
    "#but we wanted logarhitmic returns, so put them into logs\n",
    "#log_return= np.log(return).diff(periods = 1) \n",
    "\n",
    "stock1_df[\"return\"] = ((stock1_df[\"Open\"] - stock1_df[\"Adj Close\"])/stock1_df[\"Adj Close\"\n",
    "stock1_df.head()\n"
   ]
  },
  {
   "cell_type": "code",
   "execution_count": 56,
   "id": "e79e8e09",
   "metadata": {},
   "outputs": [
    {
     "ename": "SyntaxError",
     "evalue": "invalid syntax (80913379.py, line 1)",
     "output_type": "error",
     "traceback": [
      "\u001b[1;36m  Cell \u001b[1;32mIn[56], line 1\u001b[1;36m\u001b[0m\n\u001b[1;33m    return= df[\"return\"]\u001b[0m\n\u001b[1;37m          ^\u001b[0m\n\u001b[1;31mSyntaxError\u001b[0m\u001b[1;31m:\u001b[0m invalid syntax\n"
     ]
    }
   ],
   "source": [
    "#stock1_df[\"log_return\"] = np.log(return).diff(periods = 1)\n",
    "#stock1_df[\"log_return\"] = math.log(return)\n",
    "#log_return=math.log(return)\n",
    "\n",
    "#I somehow struggle to get the log, sorry"
   ]
  },
  {
   "cell_type": "code",
   "execution_count": null,
   "id": "00dd7bfb",
   "metadata": {},
   "outputs": [],
   "source": [
    "# Q3 Calculate logarithmic returns from Adj Close. \n",
    "#For each company report on its, min, max, mean, median of the return distribution."
   ]
  },
  {
   "cell_type": "code",
   "execution_count": 57,
   "id": "9c367959",
   "metadata": {},
   "outputs": [
    {
     "name": "stdout",
     "output_type": "stream",
     "text": [
      "name\n",
      "ACN    0.121498\n",
      "HD     0.157784\n",
      "HIG    0.252065\n",
      "UNG    0.124769\n",
      "Name: return, dtype: float64\n"
     ]
    }
   ],
   "source": [
    "# maximum return per company\n",
    "print(stock1_df.groupby(\"name\")[\"return\"].max()) # HIG\n"
   ]
  },
  {
   "cell_type": "code",
   "execution_count": 58,
   "id": "23f175e4",
   "metadata": {},
   "outputs": [
    {
     "name": "stdout",
     "output_type": "stream",
     "text": [
      "name\n",
      "ACN   -0.070119\n",
      "HD    -0.055056\n",
      "HIG   -0.183798\n",
      "UNG   -0.059533\n",
      "Name: return, dtype: float64\n"
     ]
    }
   ],
   "source": [
    "# maximum loss per company\n",
    "print(stock1_df.groupby(\"name\")[\"return\"].min()) # HIG most volatile"
   ]
  },
  {
   "cell_type": "code",
   "execution_count": 59,
   "id": "fdef6bb4",
   "metadata": {},
   "outputs": [
    {
     "name": "stdout",
     "output_type": "stream",
     "text": [
      "name\n",
      "ACN    0.036037\n",
      "HD     0.040305\n",
      "HIG    0.049599\n",
      "UNG    0.027119\n",
      "Name: return, dtype: float64\n"
     ]
    }
   ],
   "source": [
    "# mean per company\n",
    "print(stock1_df.groupby(\"name\")[\"return\"].mean())"
   ]
  },
  {
   "cell_type": "code",
   "execution_count": 60,
   "id": "cafafbad",
   "metadata": {},
   "outputs": [
    {
     "name": "stdout",
     "output_type": "stream",
     "text": [
      "name\n",
      "ACN    0.035399\n",
      "HD     0.036760\n",
      "HIG    0.054121\n",
      "UNG    0.025247\n",
      "Name: return, dtype: float64\n"
     ]
    }
   ],
   "source": [
    "# meadian per company\n",
    "print(stock1_df.groupby(\"name\")[\"return\"].median())"
   ]
  },
  {
   "cell_type": "code",
   "execution_count": 61,
   "id": "e7f7ed60",
   "metadata": {},
   "outputs": [
    {
     "name": "stdout",
     "output_type": "stream",
     "text": [
      "name\n",
      "ACN    2020-03-26\n",
      "HD     2022-01-24\n",
      "HIG    2020-03-19\n",
      "UNG    2020-03-26\n",
      "Name: return, dtype: object\n"
     ]
    }
   ],
   "source": [
    "#When did each company record the highest gain and highest loss for the day? (logarithmic loss). Hint: idxmax\n",
    "# highest loss\n",
    "print(stock1_df.groupby(\"name\")[\"return\"].idxmin())\n"
   ]
  },
  {
   "cell_type": "code",
   "execution_count": 63,
   "id": "287f5bf2",
   "metadata": {},
   "outputs": [
    {
     "name": "stdout",
     "output_type": "stream",
     "text": [
      "name\n",
      "ACN    2018-03-22\n",
      "HD     2018-02-08\n",
      "HIG    2020-03-18\n",
      "UNG    2019-04-16\n",
      "Name: return, dtype: object\n"
     ]
    }
   ],
   "source": [
    "# days of highest gain \n",
    "print(stock1_df.groupby(\"name\")[\"return\"].idxmax())"
   ]
  },
  {
   "cell_type": "code",
   "execution_count": null,
   "id": "c9d50251",
   "metadata": {},
   "outputs": [],
   "source": [
    "#What is the average calendar weekly volume for each company? Hint: check how to resample pandas DF"
   ]
  },
  {
   "cell_type": "code",
   "execution_count": null,
   "id": "b24d0843",
   "metadata": {},
   "outputs": [],
   "source": []
  },
  {
   "cell_type": "code",
   "execution_count": null,
   "id": "1ad6ee4e",
   "metadata": {},
   "outputs": [],
   "source": []
  },
  {
   "cell_type": "code",
   "execution_count": null,
   "id": "5bee7c3b",
   "metadata": {},
   "outputs": [],
   "source": [
    "#Which company recorded the highest total return over the whole period?"
   ]
  },
  {
   "cell_type": "code",
   "execution_count": null,
   "id": "e9786e07",
   "metadata": {},
   "outputs": [],
   "source": []
  },
  {
   "cell_type": "code",
   "execution_count": 69,
   "id": "85451aa5",
   "metadata": {},
   "outputs": [],
   "source": [
    "#Plot the log-returns of the companies (ideally in the same plot)\n"
   ]
  },
  {
   "cell_type": "markdown",
   "id": "17386f01",
   "metadata": {},
   "source": [
    "## Part 2"
   ]
  },
  {
   "cell_type": "code",
   "execution_count": null,
   "id": "69b65df3",
   "metadata": {},
   "outputs": [],
   "source": [
    "#I am too slow "
   ]
  },
  {
   "cell_type": "code",
   "execution_count": null,
   "id": "5bffe273",
   "metadata": {},
   "outputs": [],
   "source": [
    "#"
   ]
  }
 ],
 "metadata": {
  "kernelspec": {
   "display_name": "Python 3 (ipykernel)",
   "language": "python",
   "name": "python3"
  },
  "language_info": {
   "codemirror_mode": {
    "name": "ipython",
    "version": 3
   },
   "file_extension": ".py",
   "mimetype": "text/x-python",
   "name": "python",
   "nbconvert_exporter": "python",
   "pygments_lexer": "ipython3",
   "version": "3.11.5"
  }
 },
 "nbformat": 4,
 "nbformat_minor": 5
}
